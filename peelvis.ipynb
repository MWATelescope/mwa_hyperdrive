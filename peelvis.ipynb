{
 "cells": [
  {
   "cell_type": "code",
   "execution_count": 8,
   "metadata": {},
   "outputs": [
    {
     "name": "stderr",
     "output_type": "stream",
     "text": [
      "/tmp/ipykernel_971322/2848616162.py:12: FutureWarning: The 'delim_whitespace' keyword in pd.read_csv is deprecated and will be removed in a future version. Use ``sep='\\s+'`` instead\n",
      "  df = pd.read_csv(path, delim_whitespace=True, comment=\"#\", names=[\"u\", \"v\", \"Re(V)\", \"Im(V)\", \"weight\"])\n"
     ]
    },
    {
     "data": {
      "text/html": [
       "<div>\n",
       "<style scoped>\n",
       "    .dataframe tbody tr th:only-of-type {\n",
       "        vertical-align: middle;\n",
       "    }\n",
       "\n",
       "    .dataframe tbody tr th {\n",
       "        vertical-align: top;\n",
       "    }\n",
       "\n",
       "    .dataframe thead th {\n",
       "        text-align: right;\n",
       "    }\n",
       "</style>\n",
       "<table border=\"1\" class=\"dataframe\">\n",
       "  <thead>\n",
       "    <tr style=\"text-align: right;\">\n",
       "      <th></th>\n",
       "      <th>u</th>\n",
       "      <th>v</th>\n",
       "      <th>Re(V)</th>\n",
       "      <th>Im(V)</th>\n",
       "      <th>weight</th>\n",
       "    </tr>\n",
       "  </thead>\n",
       "  <tbody>\n",
       "    <tr>\n",
       "      <th>0</th>\n",
       "      <td>10.0</td>\n",
       "      <td>0.0</td>\n",
       "      <td>-0.000987</td>\n",
       "      <td>0.031395</td>\n",
       "      <td>2.0</td>\n",
       "    </tr>\n",
       "    <tr>\n",
       "      <th>1</th>\n",
       "      <td>20.0</td>\n",
       "      <td>0.0</td>\n",
       "      <td>-0.003943</td>\n",
       "      <td>0.062667</td>\n",
       "      <td>2.0</td>\n",
       "    </tr>\n",
       "    <tr>\n",
       "      <th>2</th>\n",
       "      <td>30.0</td>\n",
       "      <td>0.0</td>\n",
       "      <td>-0.008856</td>\n",
       "      <td>0.093691</td>\n",
       "      <td>2.0</td>\n",
       "    </tr>\n",
       "    <tr>\n",
       "      <th>3</th>\n",
       "      <td>40.0</td>\n",
       "      <td>0.0</td>\n",
       "      <td>-0.015708</td>\n",
       "      <td>0.124345</td>\n",
       "      <td>2.0</td>\n",
       "    </tr>\n",
       "    <tr>\n",
       "      <th>4</th>\n",
       "      <td>50.0</td>\n",
       "      <td>0.0</td>\n",
       "      <td>-0.024472</td>\n",
       "      <td>0.154508</td>\n",
       "      <td>2.0</td>\n",
       "    </tr>\n",
       "    <tr>\n",
       "      <th>...</th>\n",
       "      <td>...</td>\n",
       "      <td>...</td>\n",
       "      <td>...</td>\n",
       "      <td>...</td>\n",
       "      <td>...</td>\n",
       "    </tr>\n",
       "    <tr>\n",
       "      <th>32380</th>\n",
       "      <td>0.0</td>\n",
       "      <td>20.0</td>\n",
       "      <td>0.000000</td>\n",
       "      <td>0.000000</td>\n",
       "      <td>2.0</td>\n",
       "    </tr>\n",
       "    <tr>\n",
       "      <th>32381</th>\n",
       "      <td>0.0</td>\n",
       "      <td>30.0</td>\n",
       "      <td>0.000000</td>\n",
       "      <td>0.000000</td>\n",
       "      <td>2.0</td>\n",
       "    </tr>\n",
       "    <tr>\n",
       "      <th>32382</th>\n",
       "      <td>0.0</td>\n",
       "      <td>10.0</td>\n",
       "      <td>0.000000</td>\n",
       "      <td>0.000000</td>\n",
       "      <td>2.0</td>\n",
       "    </tr>\n",
       "    <tr>\n",
       "      <th>32383</th>\n",
       "      <td>0.0</td>\n",
       "      <td>20.0</td>\n",
       "      <td>0.000000</td>\n",
       "      <td>0.000000</td>\n",
       "      <td>2.0</td>\n",
       "    </tr>\n",
       "    <tr>\n",
       "      <th>32384</th>\n",
       "      <td>0.0</td>\n",
       "      <td>10.0</td>\n",
       "      <td>0.000000</td>\n",
       "      <td>0.000000</td>\n",
       "      <td>2.0</td>\n",
       "    </tr>\n",
       "  </tbody>\n",
       "</table>\n",
       "<p>32385 rows × 5 columns</p>\n",
       "</div>"
      ],
      "text/plain": [
       "          u     v     Re(V)     Im(V)  weight\n",
       "0      10.0   0.0 -0.000987  0.031395     2.0\n",
       "1      20.0   0.0 -0.003943  0.062667     2.0\n",
       "2      30.0   0.0 -0.008856  0.093691     2.0\n",
       "3      40.0   0.0 -0.015708  0.124345     2.0\n",
       "4      50.0   0.0 -0.024472  0.154508     2.0\n",
       "...     ...   ...       ...       ...     ...\n",
       "32380   0.0  20.0  0.000000  0.000000     2.0\n",
       "32381   0.0  30.0  0.000000  0.000000     2.0\n",
       "32382   0.0  10.0  0.000000  0.000000     2.0\n",
       "32383   0.0  20.0  0.000000  0.000000     2.0\n",
       "32384   0.0  10.0  0.000000  0.000000     2.0\n",
       "\n",
       "[32385 rows x 5 columns]"
      ]
     },
     "metadata": {},
     "output_type": "display_data"
    }
   ],
   "source": [
    "# read a file that looks like this:\n",
    "# # Extracted from test_10.ms.\n",
    "# # wavelength[m] = 1.0\n",
    "# # Columns:      u[m]    v[m]    Re(V)[Jy]       Im(V)[Jy]       weight\n",
    "# -1.000000e+01   0.000000e+00    -9.866357e-04   3.139526e-02    2.000000e+00\n",
    "# -2.000000e+01   0.000000e+00    -3.942639e-03   6.266662e-02    2.000000e+00\n",
    "# -3.000000e+01   0.000000e+00    -8.856386e-03   9.369066e-02    2.000000e+00\n",
    "\n",
    "import numpy as np\n",
    "import pandas as pd\n",
    "path = \"test_10_uvtable.txt\"\n",
    "df = pd.read_csv(path, delim_whitespace=True, comment=\"#\", names=[\"u\", \"v\", \"Re(V)\", \"Im(V)\", \"weight\"])\n",
    "df['u'] = np.abs(df['u'])\n",
    "df['v'] = np.abs(df['v'])\n",
    "display(df)"
   ]
  },
  {
   "cell_type": "code",
   "execution_count": null,
   "metadata": {},
   "outputs": [
    {
     "name": "stdout",
     "output_type": "stream",
     "text": [
      "Grid spacing in u: 10.0, gridsize: 128\n"
     ]
    },
    {
     "data": {
      "image/png": "[encoded data removed]",
      "text/plain": [
       "<Figure size 640x480 with 1 Axes>"
      ]
     },
     "metadata": {},
     "output_type": "display_data"
    },
    {
     "data": {
      "image/png": "[encoded data removed]",
      "text/plain": [
       "<Figure size 640x480 with 1 Axes>"
      ]
     },
     "metadata": {},
     "output_type": "display_data"
    }
   ],
   "source": [
    "unique_u = np.unique(df['u'])\n",
    "u_spacing = np.diff(unique_u).min()\n",
    "u_gridsize = int((unique_u.max() - unique_u.min()) / u_spacing + 1)\n",
    "print(f\"Grid spacing in u: {u_spacing}, gridsize: {u_gridsize}\")\n",
    "# make an empty grid of complex numbers\n",
    "grid = np.zeros((u_gridsize, u_gridsize), dtype=complex)\n",
    "# fill the grid with the values from the dataframe\n",
    "for i, row in df.iterrows():\n",
    "    u_index = int((row['u'] - unique_u.min()) / u_spacing)\n",
    "    v_index = int((row['v'] - unique_u.min()) / u_spacing)\n",
    "    grid[u_index, v_index] = row['Re(V)'] + 1j * row['Im(V)']\n",
    "\n",
    "# plot the grid\n",
    "import matplotlib.pyplot as plt\n",
    "plt.imshow(np.abs(grid), origin='lower')\n",
    "plt.show()\n",
    "plt.imshow(np.angle(grid * 1j), origin='lower')\n",
    "plt.show()"
   ]
  }
 ],
 "metadata": {
  "kernelspec": {
   "display_name": "Python 3",
   "language": "python",
   "name": "python3"
  },
  "language_info": {
   "codemirror_mode": {
    "name": "ipython",
    "version": 3
   },
   "file_extension": ".py",
   "mimetype": "text/x-python",
   "name": "python",
   "nbconvert_exporter": "python",
   "pygments_lexer": "ipython3",
   "version": "3.10.12"
  }
 },
 "nbformat": 4,
 "nbformat_minor": 2
}
